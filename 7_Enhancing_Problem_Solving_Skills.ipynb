{
 "cells": [
  {
   "cell_type": "markdown",
   "metadata": {},
   "source": [
    "<div style=\"background-color:#E6F9E6; padding: 20px; border-radius: 10px; box-shadow: 0 2px 4px 0 rgba(0, 0, 0, 0.1); border:2px solid #66C2A5; margin-top: 20px;\">\n",
    "    <h1 style=\"font-size:24px; font-family:Georgia, serif; color:#4A90E2; text-align:center; text-shadow: 2px 2px 4px rgba(0, 0, 0, 0.2);\">\n",
    "        Enhancing Problem-Solving Skills\n",
    "    </h1>\n",
    "    <p style=\"font-size:16px; font-family:Georgia, serif; line-height: 1.5em; text-indent: 20px; color:#333;\">\n",
    "        Enhancing problem-solving skills involves developing your ability to approach complex problems methodically and creatively. This involves breaking down large problems into smaller, manageable parts, recognizing patterns, and applying algorithmic thinking. Improving these skills will not only make you a better programmer but also enhance your analytical abilities in other areas of life and work.\n",
    "    </p>\n",
    "    \n",
    "<h2 style=\"font-size:16px; font-family:Georgia, serif; color:#66C2A5;\">Example Prompts:</h2>\n",
    "    \n",
    "<div style=\"background-color:#f9f9f9; padding: 10px; border-radius: 5px; border: 1px solid #ccc; margin-top: 10px;\">\n",
    "        <p style=\"font-size:16px; font-family:Georgia, serif; color:#333;\">\n",
    "            “Can you walk me through the problem-solving steps for [describe a coding challenge]? How would you approach breaking this down into smaller tasks?”\n",
    "        </p>\n",
    "    </div>\n",
    "    \n",
    "<div style=\"background-color:#f9f9f9; padding: 10px; border-radius: 5px; border: 1px solid #ccc; margin-top: 10px;\">\n",
    "        <p style=\"font-size:16px; font-family:Georgia, serif; color:#333;\">\n",
    "            “What are some common problem-solving techniques in programming? Can you provide examples of when to use each?”\n",
    "        </p>\n",
    "    </div>\n",
    "</div>\n"
   ]
  }
 ],
 "metadata": {
  "language_info": {
   "name": "python"
  }
 },
 "nbformat": 4,
 "nbformat_minor": 2
}
